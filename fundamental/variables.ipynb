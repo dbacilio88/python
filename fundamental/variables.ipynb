{
 "cells": [
  {
   "metadata": {
    "ExecuteTime": {
     "end_time": "2025-01-18T02:38:43.795695Z",
     "start_time": "2025-01-18T02:38:43.790526Z"
    }
   },
   "cell_type": "code",
   "source": [
    "list_number = [1,2,3,4,5]\n",
    "print(list_number)"
   ],
   "id": "59aaf77ce8c5b5f4",
   "outputs": [
    {
     "name": "stdout",
     "output_type": "stream",
     "text": [
      "[1, 2, 3, 4, 5]\n"
     ]
    }
   ],
   "execution_count": 6
  },
  {
   "metadata": {},
   "cell_type": "markdown",
   "source": "",
   "id": "17491cd94ecd952f"
  },
  {
   "metadata": {
    "ExecuteTime": {
     "end_time": "2025-01-18T02:38:45.973351Z",
     "start_time": "2025-01-18T02:38:45.965446Z"
    }
   },
   "cell_type": "code",
   "source": "type(list_number)",
   "id": "22fc54963d85c9a3",
   "outputs": [
    {
     "data": {
      "text/plain": [
       "list"
      ]
     },
     "execution_count": 7,
     "metadata": {},
     "output_type": "execute_result"
    }
   ],
   "execution_count": 7
  },
  {
   "metadata": {
    "ExecuteTime": {
     "end_time": "2025-01-18T02:38:50.591191Z",
     "start_time": "2025-01-18T02:38:50.585517Z"
    }
   },
   "cell_type": "code",
   "source": [
    "for item in list_number:\n",
    "    print(item)"
   ],
   "id": "76703f85c059eb79",
   "outputs": [
    {
     "name": "stdout",
     "output_type": "stream",
     "text": [
      "1\n",
      "2\n",
      "3\n",
      "4\n",
      "5\n"
     ]
    }
   ],
   "execution_count": 8
  },
  {
   "metadata": {
    "ExecuteTime": {
     "end_time": "2025-01-18T02:39:45.020175Z",
     "start_time": "2025-01-18T02:39:45.013972Z"
    }
   },
   "cell_type": "code",
   "source": "len(list_number)",
   "id": "6213cd82c9a0f864",
   "outputs": [
    {
     "data": {
      "text/plain": [
       "5"
      ]
     },
     "execution_count": 10,
     "metadata": {},
     "output_type": "execute_result"
    }
   ],
   "execution_count": 10
  },
  {
   "metadata": {},
   "cell_type": "code",
   "outputs": [],
   "execution_count": null,
   "source": "",
   "id": "2dc757663b4d3ad3"
  }
 ],
 "metadata": {
  "kernelspec": {
   "display_name": "Python 3 (ipykernel)",
   "language": "python",
   "name": "python3"
  },
  "language_info": {
   "codemirror_mode": {
    "name": "ipython",
    "version": 3
   },
   "file_extension": ".py",
   "mimetype": "text/x-python",
   "name": "python",
   "nbconvert_exporter": "python",
   "pygments_lexer": "ipython3",
   "version": "3.12.3"
  }
 },
 "nbformat": 4,
 "nbformat_minor": 5
}
